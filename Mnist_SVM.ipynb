{
  "nbformat": 4,
  "nbformat_minor": 0,
  "metadata": {
    "colab": {
      "name": "Mnist SVM.ipynb",
      "version": "0.3.2",
      "provenance": [],
      "include_colab_link": true
    },
    "kernelspec": {
      "name": "python3",
      "display_name": "Python 3"
    }
  },
  "cells": [
    {
      "cell_type": "markdown",
      "metadata": {
        "id": "view-in-github",
        "colab_type": "text"
      },
      "source": [
        "<a href=\"https://colab.research.google.com/github/SamNdirangu/Image-Classification-Mnist/blob/master/Mnist_SVM.ipynb\" target=\"_parent\"><img src=\"https://colab.research.google.com/assets/colab-badge.svg\" alt=\"Open In Colab\"/></a>"
      ]
    },
    {
      "cell_type": "markdown",
      "metadata": {
        "id": "GG6g17bjTReO",
        "colab_type": "text"
      },
      "source": [
        "# Classification of the fashion mnist dataset using SVMs\n",
        "\n",
        "The 2d image arrays are flattened to a 1d array which is then fed to the SVM"
      ]
    },
    {
      "cell_type": "markdown",
      "metadata": {
        "id": "ur9jbbCmTo1I",
        "colab_type": "text"
      },
      "source": [
        "### Step 1: Import all required libraries"
      ]
    },
    {
      "cell_type": "code",
      "metadata": {
        "id": "29KLoVEmWjkb",
        "colab_type": "code",
        "colab": {
          "base_uri": "https://localhost:8080/",
          "height": 33
        },
        "outputId": "869a85c6-3266-4ec4-eb24-915ddf506c55"
      },
      "source": [
        "pip install cython"
      ],
      "execution_count": 6,
      "outputs": [
        {
          "output_type": "stream",
          "text": [
            "Requirement already satisfied: cython in /usr/local/lib/python3.6/dist-packages (0.29.10)\n"
          ],
          "name": "stdout"
        }
      ]
    },
    {
      "cell_type": "code",
      "metadata": {
        "id": "yuf4nynNTil8",
        "colab_type": "code",
        "colab": {}
      },
      "source": [
        "from __future__ import absolute_import, division, print_function, unicode_literals\n",
        "\n",
        "# TensorFlow and tf.keras: Ease our import of the dataset\n",
        "import tensorflow as tf\n",
        "from tensorflow import keras\n",
        "\n",
        "# Helper libraries\n",
        "import numpy as np\n",
        "import matplotlib.pyplot as plt"
      ],
      "execution_count": 0,
      "outputs": []
    },
    {
      "cell_type": "markdown",
      "metadata": {
        "id": "4oq2bFASUD_K",
        "colab_type": "text"
      },
      "source": [
        "### Step 2: Import the Dataset"
      ]
    },
    {
      "cell_type": "code",
      "metadata": {
        "id": "t2uMpFUMUISb",
        "colab_type": "code",
        "colab": {}
      },
      "source": [
        "#Using Keras we import the dataset and store it.\n",
        "fashion_mnist = keras.datasets.fashion_mnist\n",
        "#The data is already split into Train and test sets\n",
        "(train_images, train_labels), (test_images, test_labels) = fashion_mnist.load_data()\n"
      ],
      "execution_count": 0,
      "outputs": []
    },
    {
      "cell_type": "markdown",
      "metadata": {
        "id": "gaOuT60SVCmm",
        "colab_type": "text"
      },
      "source": [
        "Split the dataset further we dont need 50000 for SVMs so we can split the train images into a further training set."
      ]
    },
    {
      "cell_type": "code",
      "metadata": {
        "id": "FBQo0CFFVGKh",
        "colab_type": "code",
        "colab": {
          "base_uri": "https://localhost:8080/",
          "height": 50
        },
        "outputId": "c7f36f54-d8c9-49fd-912b-143ca1ff9ae8"
      },
      "source": [
        "#We split it even further SVMs dont need a lot of data to train\n",
        "from sklearn.model_selection import train_test_split\n",
        "\n",
        "#Ensure to stratify so were able to have all classes in one set\n",
        "X_train, X_test, y_train, y_test = train_test_split(train_images, train_labels,\n",
        "                                                   test_size = 0.98,\n",
        "                                                   random_state = 0,\n",
        "                                                   stratify = train_labels)\n",
        "\n",
        "#Define our ClassNames\n",
        "class_names = ['T-shirt/top', 'Trouser', 'Pullover', 'Dress', 'Coat',\n",
        "               'Sandal', 'Shirt', 'Sneaker', 'Bag', 'Ankle boot']\n",
        "\n",
        "print(X_train.shape)\n",
        "print(len(y_train)) #We have 12 thousand samples"
      ],
      "execution_count": 4,
      "outputs": [
        {
          "output_type": "stream",
          "text": [
            "(1200, 28, 28)\n",
            "1200\n"
          ],
          "name": "stdout"
        }
      ]
    },
    {
      "cell_type": "markdown",
      "metadata": {
        "id": "vjC8IGR4XMQc",
        "colab_type": "text"
      },
      "source": [
        "### Do A bit of exploring"
      ]
    },
    {
      "cell_type": "code",
      "metadata": {
        "id": "Rk0B4fhNW5Hx",
        "colab_type": "code",
        "colab": {
          "base_uri": "https://localhost:8080/",
          "height": 269
        },
        "outputId": "20dc7744-d170-42f3-8fdc-1d38187406f0"
      },
      "source": [
        "plt.figure()\n",
        "plt.imshow(X_train[0], cmap =\"Blues\")\n",
        "plt.colorbar()\n",
        "plt.grid(False)\n",
        "plt.show()"
      ],
      "execution_count": 22,
      "outputs": [
        {
          "output_type": "display_data",
          "data": {
            "image/png": "[encoded data removed]",
            "text/plain": [
              "<Figure size 432x288 with 2 Axes>"
            ]
          },
          "metadata": {
            "tags": []
          }
        }
      ]
    },
    {
      "cell_type": "markdown",
      "metadata": {
        "id": "V7-1h6_vYUTo",
        "colab_type": "text"
      },
      "source": [
        ""
      ]
    },
    {
      "cell_type": "markdown",
      "metadata": {
        "id": "-X8SlmsJXfzC",
        "colab_type": "text"
      },
      "source": [
        "Scale the values from 0 to 1, this aids in convergence speed"
      ]
    },
    {
      "cell_type": "code",
      "metadata": {
        "id": "grH_ALKtXkvB",
        "colab_type": "code",
        "colab": {}
      },
      "source": [
        "X_train = X_train / 255.0\n",
        "\n",
        "X_test = X_test / 255.0"
      ],
      "execution_count": 0,
      "outputs": []
    },
    {
      "cell_type": "markdown",
      "metadata": {
        "id": "xFM4yBLxXj4c",
        "colab_type": "text"
      },
      "source": [
        "Plot a few of them and see how they look"
      ]
    },
    {
      "cell_type": "code",
      "metadata": {
        "id": "Oq1DKb3BXcaf",
        "colab_type": "code",
        "colab": {
          "base_uri": "https://localhost:8080/",
          "height": 592
        },
        "outputId": "e9a79d1d-c5e8-417d-a375-d685a46c4d71"
      },
      "source": [
        "plt.figure(figsize=(10,10))\n",
        "for i in range(25):\n",
        "    plt.subplot(5,5,i+1)\n",
        "    plt.xticks([])\n",
        "    plt.yticks([])\n",
        "    plt.grid(False)\n",
        "    plt.imshow(X_train[i], cmap=plt.cm.binary)\n",
        "    plt.xlabel(class_names[y_train[i]])\n",
        "plt.show()"
      ],
      "execution_count": 21,
      "outputs": [
        {
          "output_type": "display_data",
          "data": {
            "image/png": "[encoded data removed]",
            "text/plain": [
              "<Figure size 720x720 with 25 Axes>"
            ]
          },
          "metadata": {
            "tags": []
          }
        }
      ]
    },
    {
      "cell_type": "markdown",
      "metadata": {
        "id": "E5sxvHCaZ_YY",
        "colab_type": "text"
      },
      "source": [
        "### Good so far we now\n",
        "Flatten the 2D Arrays to 1D"
      ]
    },
    {
      "cell_type": "code",
      "metadata": {
        "id": "oV9DIZGDXesX",
        "colab_type": "code",
        "colab": {}
      },
      "source": [
        "# Creates a list containing 5 lists, each of 8 items, all set to 0\n",
        "h, w = len(X_train), 784;\n",
        "X_trainF = [[0 for x in range(w)] for y in range(h)]"
      ],
      "execution_count": 0,
      "outputs": []
    },
    {
      "cell_type": "code",
      "metadata": {
        "id": "I5frB4jJfqZm",
        "colab_type": "code",
        "colab": {}
      },
      "source": [
        "X_trainF = np.asarray(X_trainF)\n",
        "for i in range(len(X_trainF)):\n",
        "  X_trainF[i] = X_train[i].flatten()\n"
      ],
      "execution_count": 0,
      "outputs": []
    },
    {
      "cell_type": "markdown",
      "metadata": {
        "id": "Dl3r8Kh4h9SO",
        "colab_type": "text"
      },
      "source": [
        "# Step 3 Train the SVM Model"
      ]
    },
    {
      "cell_type": "code",
      "metadata": {
        "id": "LfWcCRAjiGPS",
        "colab_type": "code",
        "colab": {
          "base_uri": "https://localhost:8080/",
          "height": 136
        },
        "outputId": "abb7319c-d33b-4ed8-c0b3-118a40946ad4"
      },
      "source": [
        "# Fitting Kernel SVM to the Training set\n",
        "\n",
        "from sklearn.svm import SVC\n",
        "classifier = SVC(kernel = 'rbf', random_state = 0)\n",
        "classifier.fit(X_trainF, y_train)"
      ],
      "execution_count": 8,
      "outputs": [
        {
          "output_type": "stream",
          "text": [
            "/usr/local/lib/python3.6/dist-packages/sklearn/svm/base.py:193: FutureWarning: The default value of gamma will change from 'auto' to 'scale' in version 0.22 to account better for unscaled features. Set gamma explicitly to 'auto' or 'scale' to avoid this warning.\n",
            "  \"avoid this warning.\", FutureWarning)\n"
          ],
          "name": "stderr"
        },
        {
          "output_type": "execute_result",
          "data": {
            "text/plain": [
              "SVC(C=1.0, cache_size=200, class_weight=None, coef0=0.0,\n",
              "    decision_function_shape='ovr', degree=3, gamma='auto_deprecated',\n",
              "    kernel='rbf', max_iter=-1, probability=False, random_state=0,\n",
              "    shrinking=True, tol=0.001, verbose=False)"
            ]
          },
          "metadata": {
            "tags": []
          },
          "execution_count": 8
        }
      ]
    },
    {
      "cell_type": "markdown",
      "metadata": {
        "id": "ZmHn1bnIjOq8",
        "colab_type": "text"
      },
      "source": [
        "### Test the Model\n",
        "Flatten the test set first"
      ]
    },
    {
      "cell_type": "code",
      "metadata": {
        "id": "b_eNqZQnjR9O",
        "colab_type": "code",
        "colab": {}
      },
      "source": [
        "# Creates a list containing 5 lists, each of 8 items, all set to 0\n",
        "h, w = len(X_test), 784;\n",
        "X_testF = [[0 for x in range(w)] for y in range(h)]\n",
        "\n",
        "X_testF = np.asarray(X_testF)\n",
        "for i in range(len(X_trainF)):\n",
        "  X_testF[i] = X_test[i].flatten()"
      ],
      "execution_count": 0,
      "outputs": []
    },
    {
      "cell_type": "markdown",
      "metadata": {
        "id": "11wxYZ9UjrZ4",
        "colab_type": "text"
      },
      "source": [
        "Perform predictions"
      ]
    },
    {
      "cell_type": "code",
      "metadata": {
        "id": "d-i06CkGa5hP",
        "colab_type": "code",
        "colab": {
          "base_uri": "https://localhost:8080/",
          "height": 33
        },
        "outputId": "9d60c14d-a447-4db2-d0ef-55b7b63c8f80"
      },
      "source": [
        "# Predicting the Test set results\n",
        "y_pred = classifier.predict(X_testF[1:100])\n",
        "y_pred.shape"
      ],
      "execution_count": 20,
      "outputs": [
        {
          "output_type": "execute_result",
          "data": {
            "text/plain": [
              "(99,)"
            ]
          },
          "metadata": {
            "tags": []
          },
          "execution_count": 20
        }
      ]
    },
    {
      "cell_type": "code",
      "metadata": {
        "id": "2BeTarnTatGL",
        "colab_type": "code",
        "colab": {}
      },
      "source": [
        "from sklearn.metrics import confusion_matrix\n",
        "cm = confusion_matrix(y_test[1:100], y_pred)"
      ],
      "execution_count": 0,
      "outputs": []
    },
    {
      "cell_type": "code",
      "metadata": {
        "id": "0JGFg-r6lHti",
        "colab_type": "code",
        "colab": {}
      },
      "source": [
        "def accuracy(confusion_matrix):\n",
        "    diagonal_sum = confusion_matrix.trace()\n",
        "    sum_of_all_elements = confusion_matrix.sum()\n",
        "    return diagonal_sum / sum_of_all_elements "
      ],
      "execution_count": 0,
      "outputs": []
    },
    {
      "cell_type": "markdown",
      "metadata": {
        "id": "3ZqpOJJMkCrd",
        "colab_type": "text"
      },
      "source": [
        "Perform Single Predictions"
      ]
    },
    {
      "cell_type": "code",
      "metadata": {
        "id": "YRruOzPckIs7",
        "colab_type": "code",
        "colab": {
          "base_uri": "https://localhost:8080/",
          "height": 33
        },
        "outputId": "e193a2b7-030f-4234-f2c7-b6a02c71364e"
      },
      "source": [
        "accuracy(cm)"
      ],
      "execution_count": 22,
      "outputs": [
        {
          "output_type": "execute_result",
          "data": {
            "text/plain": [
              "0.1919191919191919"
            ]
          },
          "metadata": {
            "tags": []
          },
          "execution_count": 22
        }
      ]
    }
  ]
}